{
 "cells": [
  {
   "cell_type": "code",
   "execution_count": 1,
   "metadata": {
    "collapsed": true
   },
   "outputs": [],
   "source": [
    "import math"
   ]
  },
  {
   "cell_type": "code",
   "execution_count": 2,
   "metadata": {
    "collapsed": true
   },
   "outputs": [],
   "source": [
    "def cube(x):\n",
    "    return x ** 3"
   ]
  },
  {
   "cell_type": "code",
   "execution_count": 3,
   "metadata": {
    "collapsed": true
   },
   "outputs": [],
   "source": [
    "def p(x):\n",
    "    return 3*x - 4*cube(x)"
   ]
  },
  {
   "cell_type": "code",
   "execution_count": 4,
   "metadata": {
    "collapsed": true
   },
   "outputs": [],
   "source": [
    "def sine(angle):\n",
    "    if abs(angle) <= 0.1:\n",
    "        return angle\n",
    "    else:\n",
    "        return p(sine(angle / 3))"
   ]
  },
  {
   "cell_type": "code",
   "execution_count": 5,
   "metadata": {},
   "outputs": [
    {
     "name": "stdout",
     "output_type": "stream",
     "text": [
      "sin approximation: -0.3998035\n",
      "sin accurate     : -0.4044438\n"
     ]
    }
   ],
   "source": [
    "print(f'sin approximation: {sine(12.15):.7f}')\n",
    "print(f'sin accurate     : {math.sin(12.15):.7f}')"
   ]
  },
  {
   "cell_type": "markdown",
   "metadata": {},
   "source": [
    "a."
   ]
  },
  {
   "cell_type": "markdown",
   "metadata": {},
   "source": [
    "関数を直接いじってpが何回適用されたかを数えることにする．"
   ]
  },
  {
   "cell_type": "code",
   "execution_count": 6,
   "metadata": {
    "collapsed": true
   },
   "outputs": [],
   "source": [
    "def p_check(x):\n",
    "    global count\n",
    "    count += 1\n",
    "    return 3*x - 4*cube(x)"
   ]
  },
  {
   "cell_type": "code",
   "execution_count": 7,
   "metadata": {
    "collapsed": true
   },
   "outputs": [],
   "source": [
    "def sine_check(angle):\n",
    "    if abs(angle) <= 0.1:\n",
    "        return angle\n",
    "    else:\n",
    "        return p_check(sine_check(angle / 3))"
   ]
  },
  {
   "cell_type": "code",
   "execution_count": 8,
   "metadata": {
    "scrolled": true
   },
   "outputs": [
    {
     "name": "stdout",
     "output_type": "stream",
     "text": [
      "-0.3998035\n",
      "iteration number: 5\n"
     ]
    }
   ],
   "source": [
    "count = 0\n",
    "print(f'{sine_check(12.15):.7f}')\n",
    "print(f'iteration number: {count}')"
   ]
  },
  {
   "cell_type": "markdown",
   "metadata": {},
   "source": [
    "実際に数えてみても以下の様に分かる．"
   ]
  },
  {
   "cell_type": "code",
   "execution_count": 9,
   "metadata": {},
   "outputs": [
    {
     "name": "stdout",
     "output_type": "stream",
     "text": [
      "4.05\n",
      "1.3499999999999999\n",
      "0.44999999999999996\n",
      "0.15\n",
      "0.049999999999999996\n"
     ]
    }
   ],
   "source": [
    "x = 12.15\n",
    "while(x > 0.1):\n",
    "    x /= 3\n",
    "    print(x)"
   ]
  }
 ],
 "metadata": {
  "kernelspec": {
   "display_name": "Python 3",
   "language": "python",
   "name": "python3"
  },
  "language_info": {
   "codemirror_mode": {
    "name": "ipython",
    "version": 3
   },
   "file_extension": ".py",
   "mimetype": "text/x-python",
   "name": "python",
   "nbconvert_exporter": "python",
   "pygments_lexer": "ipython3",
   "version": "3.6.1"
  }
 },
 "nbformat": 4,
 "nbformat_minor": 2
}
