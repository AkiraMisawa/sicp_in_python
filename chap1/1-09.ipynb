{
 "cells": [
  {
   "cell_type": "code",
   "execution_count": 1,
   "metadata": {
    "collapsed": true
   },
   "outputs": [],
   "source": [
    "inc = lambda a: a + 1"
   ]
  },
  {
   "cell_type": "code",
   "execution_count": 2,
   "metadata": {
    "collapsed": true
   },
   "outputs": [],
   "source": [
    "dec = lambda a: a - 1"
   ]
  },
  {
   "cell_type": "code",
   "execution_count": 3,
   "metadata": {
    "collapsed": true
   },
   "outputs": [],
   "source": [
    "def plus(a, b):\n",
    "    if a == 0:\n",
    "        return b\n",
    "    else:\n",
    "        return inc(plus(dec(a), b))"
   ]
  },
  {
   "cell_type": "code",
   "execution_count": 4,
   "metadata": {},
   "outputs": [
    {
     "name": "stdout",
     "output_type": "stream",
     "text": [
      "9\n"
     ]
    }
   ],
   "source": [
    "print(plus(4, 5))"
   ]
  },
  {
   "cell_type": "markdown",
   "metadata": {},
   "source": [
    "線形再帰プロセスの図示． \n",
    "\n",
    "`\n",
    "plus(4, 5)\n",
    "inc(plus(3, 5))\n",
    "inc(inc(plus(2, 5)))\n",
    "inc(inc(inc(plus(1, 5))))\n",
    "inc(inc(inc(inc(plus(0, 5)))))\n",
    "inc(inc(inc(inc(5))))\n",
    "inc(inc(inc(6)))\n",
    "inc(inc(7))\n",
    "inc(8)\n",
    "9\n",
    "`"
   ]
  },
  {
   "cell_type": "code",
   "execution_count": 5,
   "metadata": {
    "collapsed": true
   },
   "outputs": [],
   "source": [
    "def plus(a, b):\n",
    "    if a == 0:\n",
    "        return b\n",
    "    else:\n",
    "        return plus(dec(a), inc(b))"
   ]
  },
  {
   "cell_type": "code",
   "execution_count": 6,
   "metadata": {},
   "outputs": [
    {
     "name": "stdout",
     "output_type": "stream",
     "text": [
      "9\n"
     ]
    }
   ],
   "source": [
    "print(plus(4, 5))"
   ]
  },
  {
   "cell_type": "markdown",
   "metadata": {},
   "source": [
    "線形反復プロセスの図示．  \n",
    "\n",
    "`\n",
    "plus(4, 5)\n",
    "plus(3, 6)\n",
    "plus(2, 7)\n",
    "plus(1, 8)\n",
    "plus(0, 9)\n",
    "9\n",
    "`"
   ]
  }
 ],
 "metadata": {
  "kernelspec": {
   "display_name": "Python 3",
   "language": "python",
   "name": "python3"
  },
  "language_info": {
   "codemirror_mode": {
    "name": "ipython",
    "version": 3
   },
   "file_extension": ".py",
   "mimetype": "text/x-python",
   "name": "python",
   "nbconvert_exporter": "python",
   "pygments_lexer": "ipython3",
   "version": "3.6.1"
  }
 },
 "nbformat": 4,
 "nbformat_minor": 2
}
