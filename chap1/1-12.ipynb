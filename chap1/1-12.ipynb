{
 "cells": [
  {
   "cell_type": "markdown",
   "metadata": {},
   "source": [
    "再帰によって，パスカルの三角形を計算．"
   ]
  },
  {
   "cell_type": "code",
   "execution_count": 1,
   "metadata": {
    "collapsed": true
   },
   "outputs": [],
   "source": [
    "def pascals_triangle(n, k):\n",
    "    if (n < k) or (n < 0) or (k < 0):\n",
    "        return 0\n",
    "    elif k == 0 or n == k:\n",
    "        return 1\n",
    "    else:\n",
    "        return pascals_triangle(n - 1, k - 1) + pascals_triangle(n - 1, k)"
   ]
  },
  {
   "cell_type": "code",
   "execution_count": 2,
   "metadata": {
    "scrolled": true
   },
   "outputs": [
    {
     "name": "stdout",
     "output_type": "stream",
     "text": [
      "252\n"
     ]
    }
   ],
   "source": [
    "print(pascals_triangle(10, 5))"
   ]
  },
  {
   "cell_type": "markdown",
   "metadata": {},
   "source": [
    "$\\displaystyle {_n}C_k = {_n}C_{k-1} \\times \\frac{n+1-k}{k}$\n",
    "を用いて次のようにも計算できる．"
   ]
  },
  {
   "cell_type": "code",
   "execution_count": 3,
   "metadata": {
    "collapsed": true
   },
   "outputs": [],
   "source": [
    "def pascals_triangle(n, k):\n",
    "    if (n < k) or (n < 0) or (k < 0):\n",
    "        return 0\n",
    "    elif 2*k > n:\n",
    "        return pascals_triangle(n, n - k)\n",
    "    elif k == 0:\n",
    "        return 1\n",
    "    else:\n",
    "        return ((n + 1 - k) * pascals_triangle(n, k - 1)) // k"
   ]
  },
  {
   "cell_type": "code",
   "execution_count": 4,
   "metadata": {},
   "outputs": [
    {
     "name": "stdout",
     "output_type": "stream",
     "text": [
      "252\n"
     ]
    }
   ],
   "source": [
    "print(pascals_triangle(10, 5))"
   ]
  },
  {
   "cell_type": "markdown",
   "metadata": {},
   "source": [
    "反復による計算は以下のようになる．"
   ]
  },
  {
   "cell_type": "code",
   "execution_count": 5,
   "metadata": {
    "collapsed": true
   },
   "outputs": [],
   "source": [
    "def pascals_triangle(n, k):\n",
    "    def pascals_triangle_iter(x, y, counter):\n",
    "        if counter == 0:\n",
    "            return x // y\n",
    "        else:\n",
    "            return pascals_triangle_iter(\n",
    "                (n + 1 - counter) * x, y * counter, counter - 1\n",
    "            )\n",
    "\n",
    "    if (n < k) or (n < 0) or (k < 0):\n",
    "        return 0\n",
    "    elif 2*k > n:\n",
    "        return pascals_triangle(n, n - k)\n",
    "    else:\n",
    "        return pascals_triangle_iter(1, 1, k)"
   ]
  },
  {
   "cell_type": "code",
   "execution_count": 6,
   "metadata": {},
   "outputs": [
    {
     "name": "stdout",
     "output_type": "stream",
     "text": [
      "252\n"
     ]
    }
   ],
   "source": [
    "print(pascals_triangle(10, 5))"
   ]
  }
 ],
 "metadata": {
  "kernelspec": {
   "display_name": "Python 3",
   "language": "python",
   "name": "python3"
  },
  "language_info": {
   "codemirror_mode": {
    "name": "ipython",
    "version": 3
   },
   "file_extension": ".py",
   "mimetype": "text/x-python",
   "name": "python",
   "nbconvert_exporter": "python",
   "pygments_lexer": "ipython3",
   "version": "3.6.1"
  }
 },
 "nbformat": 4,
 "nbformat_minor": 2
}
