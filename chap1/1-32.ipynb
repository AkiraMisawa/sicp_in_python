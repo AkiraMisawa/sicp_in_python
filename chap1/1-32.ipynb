{
 "cells": [
  {
   "cell_type": "markdown",
   "metadata": {},
   "source": [
    "a. 再帰アルゴリズムによる実装．"
   ]
  },
  {
   "cell_type": "code",
   "execution_count": 1,
   "metadata": {
    "collapsed": true
   },
   "outputs": [],
   "source": [
    "def summation(term, a, next_fun, b):\n",
    "    if a > b:\n",
    "        return 0\n",
    "    else:\n",
    "        return term(a) + summation(term, next_fun(a), next_fun, b)"
   ]
  },
  {
   "cell_type": "code",
   "execution_count": 2,
   "metadata": {
    "collapsed": true
   },
   "outputs": [],
   "source": [
    "def product(term, a, next_fun, b):\n",
    "    if a > b:\n",
    "        return 1\n",
    "    else:\n",
    "        return term(a) * product(term, next_fun(a), next_fun, b)"
   ]
  },
  {
   "cell_type": "code",
   "execution_count": 3,
   "metadata": {
    "collapsed": true
   },
   "outputs": [],
   "source": [
    "def identity(x): return x"
   ]
  },
  {
   "cell_type": "code",
   "execution_count": 4,
   "metadata": {
    "collapsed": true
   },
   "outputs": [],
   "source": [
    "def inc(x): return x + 1"
   ]
  },
  {
   "cell_type": "code",
   "execution_count": 5,
   "metadata": {
    "collapsed": true
   },
   "outputs": [],
   "source": [
    "def factorial(n): return product(identity, 1, inc, n)"
   ]
  },
  {
   "cell_type": "code",
   "execution_count": 6,
   "metadata": {},
   "outputs": [
    {
     "name": "stdout",
     "output_type": "stream",
     "text": [
      "120\n"
     ]
    }
   ],
   "source": [
    "print(factorial(5))"
   ]
  },
  {
   "cell_type": "code",
   "execution_count": 7,
   "metadata": {
    "collapsed": true
   },
   "outputs": [],
   "source": [
    "def is_even(x): return x % 2 == 0"
   ]
  },
  {
   "cell_type": "code",
   "execution_count": 8,
   "metadata": {
    "collapsed": true
   },
   "outputs": [],
   "source": [
    "def pi_wallis(n):\n",
    "    def term(i):\n",
    "        if is_even(i):\n",
    "            return (2 + i) / (3 + i)\n",
    "        else:\n",
    "            return (3 + i) / (2 + i)\n",
    "\n",
    "    return product(term, 0, inc, n)"
   ]
  },
  {
   "cell_type": "code",
   "execution_count": 9,
   "metadata": {},
   "outputs": [
    {
     "name": "stdout",
     "output_type": "stream",
     "text": [
      "3.1384713517253173\n"
     ]
    }
   ],
   "source": [
    "print(4 * pi_wallis(500))"
   ]
  },
  {
   "cell_type": "markdown",
   "metadata": {},
   "source": [
    "b. 反復アルゴリズムによる実装．"
   ]
  },
  {
   "cell_type": "code",
   "execution_count": 10,
   "metadata": {
    "collapsed": true
   },
   "outputs": [],
   "source": [
    "def summation(term, a, next_fun, b):\n",
    "    def summation_iter(x, result):\n",
    "        if x > b:\n",
    "            return result\n",
    "        else:\n",
    "            return summation_iter(next_fun(x), term(x) + result)\n",
    "    return summation_iter(a, 0)"
   ]
  },
  {
   "cell_type": "code",
   "execution_count": 11,
   "metadata": {
    "collapsed": true
   },
   "outputs": [],
   "source": [
    "def product(term, a, next_fun, b):\n",
    "    def product_iter(x, result):\n",
    "        if x > b:\n",
    "            return result\n",
    "        else:\n",
    "            return product_iter(next_fun(x), term(x) * result)\n",
    "    return product_iter(a, 1)"
   ]
  },
  {
   "cell_type": "code",
   "execution_count": 12,
   "metadata": {
    "collapsed": true
   },
   "outputs": [],
   "source": [
    "def factorial(n): return product(identity, 1, inc, n)"
   ]
  },
  {
   "cell_type": "code",
   "execution_count": 13,
   "metadata": {},
   "outputs": [
    {
     "name": "stdout",
     "output_type": "stream",
     "text": [
      "120\n"
     ]
    }
   ],
   "source": [
    "print(factorial(5))"
   ]
  }
 ],
 "metadata": {
  "kernelspec": {
   "display_name": "Python 3",
   "language": "python",
   "name": "python3"
  },
  "language_info": {
   "codemirror_mode": {
    "name": "ipython",
    "version": 3
   },
   "file_extension": ".py",
   "mimetype": "text/x-python",
   "name": "python",
   "nbconvert_exporter": "python",
   "pygments_lexer": "ipython3",
   "version": "3.6.1"
  }
 },
 "nbformat": 4,
 "nbformat_minor": 2
}
