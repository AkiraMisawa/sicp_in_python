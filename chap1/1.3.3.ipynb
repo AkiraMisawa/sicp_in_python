{
 "cells": [
  {
   "cell_type": "markdown",
   "metadata": {},
   "source": [
    "## 汎用手法としての手続き"
   ]
  },
  {
   "cell_type": "markdown",
   "metadata": {},
   "source": [
    "### 区分二分法によって方程式の根を求める"
   ]
  },
  {
   "cell_type": "code",
   "execution_count": 1,
   "metadata": {
    "collapsed": true
   },
   "outputs": [],
   "source": [
    "import math"
   ]
  },
  {
   "cell_type": "code",
   "execution_count": 2,
   "metadata": {
    "collapsed": true
   },
   "outputs": [],
   "source": [
    "average = lambda x, y: (x+y) / 2"
   ]
  },
  {
   "cell_type": "code",
   "execution_count": 3,
   "metadata": {
    "collapsed": true
   },
   "outputs": [],
   "source": [
    "is_close_enough = lambda x, y: abs(x - y) < 1e-3"
   ]
  },
  {
   "cell_type": "code",
   "execution_count": 4,
   "metadata": {
    "collapsed": true
   },
   "outputs": [],
   "source": [
    "is_positive = lambda x: x > 0"
   ]
  },
  {
   "cell_type": "code",
   "execution_count": 5,
   "metadata": {
    "collapsed": true
   },
   "outputs": [],
   "source": [
    "is_negative = lambda x: x < 0"
   ]
  },
  {
   "cell_type": "code",
   "execution_count": 6,
   "metadata": {
    "collapsed": true
   },
   "outputs": [],
   "source": [
    "def search(f, neg_point, pos_point):\n",
    "    midpoint = average(neg_point, pos_point)\n",
    "    if is_close_enough(neg_point, pos_point):\n",
    "        return midpoint\n",
    "    else:\n",
    "        test_value = f(midpoint)\n",
    "        if is_positive(test_value):\n",
    "            return search(f, neg_point, midpoint)\n",
    "        elif is_negative(test_value):\n",
    "            return search(f, midpoint, pos_point)\n",
    "        else:\n",
    "            return midpoint"
   ]
  },
  {
   "cell_type": "code",
   "execution_count": 7,
   "metadata": {
    "collapsed": true
   },
   "outputs": [],
   "source": [
    "def half_interval_method(f, a, b):\n",
    "    a_value = f(a)\n",
    "    b_value = f(b)\n",
    "    if is_negative(a_value) and is_positive(b_value):\n",
    "        return search(f, a, b)\n",
    "    elif is_negative(b_value) and is_positive(a_value):\n",
    "        return search(f, b, a)\n",
    "    else:\n",
    "        print('Values are not of opposite sign.')\n",
    "        raise ValueError"
   ]
  },
  {
   "cell_type": "code",
   "execution_count": 8,
   "metadata": {},
   "outputs": [
    {
     "name": "stdout",
     "output_type": "stream",
     "text": [
      "3.14111328125\n",
      "0.00047937232143345065\n"
     ]
    }
   ],
   "source": [
    "root = half_interval_method(math.sin, 2, 4)\n",
    "print(root)\n",
    "print(math.sin(root))"
   ]
  },
  {
   "cell_type": "code",
   "execution_count": 9,
   "metadata": {},
   "outputs": [
    {
     "name": "stdout",
     "output_type": "stream",
     "text": [
      "Values are not of opposite sign.\n"
     ]
    }
   ],
   "source": [
    "try:\n",
    "    print(half_interval_method(math.sin, 2, 3))\n",
    "except ValueError:\n",
    "    pass"
   ]
  },
  {
   "cell_type": "code",
   "execution_count": 10,
   "metadata": {},
   "outputs": [
    {
     "name": "stdout",
     "output_type": "stream",
     "text": [
      "1.89306640625\n",
      "-0.0019499402260407805\n"
     ]
    }
   ],
   "source": [
    "root = half_interval_method(lambda x: x**3 - 2*x - 3, 1, 2)\n",
    "print(root)\n",
    "print((lambda x: x**3 - 2*x - 3)(root))"
   ]
  },
  {
   "cell_type": "markdown",
   "metadata": {},
   "source": [
    "### 関数の不動点を求める"
   ]
  },
  {
   "cell_type": "code",
   "execution_count": 11,
   "metadata": {
    "collapsed": true
   },
   "outputs": [],
   "source": [
    "def fixed_point(f, first_guess):\n",
    "    tolerance = 1e-5\n",
    "\n",
    "    def is_close_enough(v1, v2):\n",
    "        return abs(v1 - v2) < tolerance\n",
    "\n",
    "    def try_next(guess):\n",
    "        next_val = f(guess)\n",
    "        if is_close_enough(guess, next_val):\n",
    "            return next_val\n",
    "        else:\n",
    "            return try_next(next_val)\n",
    "\n",
    "    return try_next(first_guess)"
   ]
  },
  {
   "cell_type": "code",
   "execution_count": 12,
   "metadata": {},
   "outputs": [
    {
     "name": "stdout",
     "output_type": "stream",
     "text": [
      "0.7390822985224023\n",
      "0.7390870426953322\n"
     ]
    }
   ],
   "source": [
    "x = fixed_point(math.cos, 1)\n",
    "print(x)\n",
    "print(math.cos(x))"
   ]
  },
  {
   "cell_type": "code",
   "execution_count": 13,
   "metadata": {},
   "outputs": [
    {
     "name": "stdout",
     "output_type": "stream",
     "text": [
      "1.2587315962971173\n",
      "1.2587259734741445\n"
     ]
    }
   ],
   "source": [
    "x = fixed_point(lambda y: math.sin(y) + math.cos(y), 1)\n",
    "print(x)\n",
    "print((lambda y: math.sin(y) + math.cos(y))(x))"
   ]
  },
  {
   "cell_type": "code",
   "execution_count": 14,
   "metadata": {
    "collapsed": true
   },
   "outputs": [],
   "source": [
    "def sqrt(x):\n",
    "    return fixed_point(lambda y: average(y, x / y), 1)"
   ]
  },
  {
   "cell_type": "code",
   "execution_count": 15,
   "metadata": {},
   "outputs": [
    {
     "name": "stdout",
     "output_type": "stream",
     "text": [
      "1.4142135623746899\n",
      "1.4142135623730951\n"
     ]
    }
   ],
   "source": [
    "print(sqrt(2))\n",
    "print(math.sqrt(2))"
   ]
  }
 ],
 "metadata": {
  "kernelspec": {
   "display_name": "Python 3",
   "language": "python",
   "name": "python3"
  },
  "language_info": {
   "codemirror_mode": {
    "name": "ipython",
    "version": 3
   },
   "file_extension": ".py",
   "mimetype": "text/x-python",
   "name": "python",
   "nbconvert_exporter": "python",
   "pygments_lexer": "ipython3",
   "version": "3.6.1"
  }
 },
 "nbformat": 4,
 "nbformat_minor": 2
}
