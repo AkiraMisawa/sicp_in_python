{
 "cells": [
  {
   "cell_type": "markdown",
   "metadata": {},
   "source": [
    "### 線形再帰と反復"
   ]
  },
  {
   "cell_type": "markdown",
   "metadata": {},
   "source": [
    "線形再帰プロセス．"
   ]
  },
  {
   "cell_type": "code",
   "execution_count": 1,
   "metadata": {
    "collapsed": true
   },
   "outputs": [],
   "source": [
    "def factorial(n):\n",
    "    if n == 0:\n",
    "        return 1\n",
    "    else:\n",
    "        return n * factorial(n - 1)"
   ]
  },
  {
   "cell_type": "code",
   "execution_count": 2,
   "metadata": {},
   "outputs": [
    {
     "name": "stdout",
     "output_type": "stream",
     "text": [
      "1\n"
     ]
    }
   ],
   "source": [
    "print(factorial(0))"
   ]
  },
  {
   "cell_type": "markdown",
   "metadata": {},
   "source": [
    "`\n",
    "factorial(6)\n",
    "6 * factorial(5)\n",
    "6 * (5 * factorial(4))\n",
    "6 * (5 * (4 * factorial(3)))\n",
    "6 * (5 * (4 * (3 * factorial(2))))\n",
    "6 * (5 * (4 * (3 * (2 * factorial(1))))\n",
    "6 * (5 * (4 * (3 * (2 * (1 * factorial(0)))))\n",
    "6 * (5 * (4 * (3 * (2 * (1 * 1)))))\n",
    "6 * (5 * (4 * (3 * (2 * 1))))\n",
    "6 * (5 * (4 * (3 * 2)))\n",
    "6 * (5 * (4 * 6))\n",
    "6 * (5 * 24)\n",
    "6 * 120\n",
    "720\n",
    "`"
   ]
  },
  {
   "cell_type": "markdown",
   "metadata": {},
   "source": [
    "線形反復プロセス．"
   ]
  },
  {
   "cell_type": "code",
   "execution_count": 3,
   "metadata": {
    "collapsed": true
   },
   "outputs": [],
   "source": [
    "def factorial(n):\n",
    "    return factorial_iter(n, 1)"
   ]
  },
  {
   "cell_type": "code",
   "execution_count": 4,
   "metadata": {
    "collapsed": true
   },
   "outputs": [],
   "source": [
    "def factorial_iter(counter, product):\n",
    "    if counter == 0:\n",
    "        return product\n",
    "    else:\n",
    "        return factorial_iter(counter - 1, counter * product)"
   ]
  },
  {
   "cell_type": "code",
   "execution_count": 5,
   "metadata": {},
   "outputs": [
    {
     "name": "stdout",
     "output_type": "stream",
     "text": [
      "720\n"
     ]
    }
   ],
   "source": [
    "print(factorial(6))"
   ]
  },
  {
   "cell_type": "markdown",
   "metadata": {},
   "source": [
    "`\n",
    "factorial(6)\n",
    "factirual_iter(6, 1)\n",
    "factorial_iter(5, 6)\n",
    "factorial_iter(4, 30)\n",
    "factorial_iter(3, 120)\n",
    "factorial_iter(2, 360)\n",
    "factorial_iter(1, 720)\n",
    "factorial_iter(0, 720)\n",
    "720\n",
    "`"
   ]
  }
 ],
 "metadata": {
  "kernelspec": {
   "display_name": "Python 3",
   "language": "python",
   "name": "python3"
  },
  "language_info": {
   "codemirror_mode": {
    "name": "ipython",
    "version": 3
   },
   "file_extension": ".py",
   "mimetype": "text/x-python",
   "name": "python",
   "nbconvert_exporter": "python",
   "pygments_lexer": "ipython3",
   "version": "3.6.1"
  }
 },
 "nbformat": 4,
 "nbformat_minor": 2
}
