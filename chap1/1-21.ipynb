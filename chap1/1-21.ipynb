{
 "cells": [
  {
   "cell_type": "code",
   "execution_count": 1,
   "metadata": {
    "collapsed": true
   },
   "outputs": [],
   "source": [
    "def can_devide(a, b):\n",
    "    return b % a is 0"
   ]
  },
  {
   "cell_type": "code",
   "execution_count": 2,
   "metadata": {
    "collapsed": true
   },
   "outputs": [],
   "source": [
    "def smallest_devisor(n):\n",
    "    def find_divisor(test_devisor):\n",
    "        if test_devisor ** 2 > n:\n",
    "            return n\n",
    "        elif can_devide(test_devisor, n):\n",
    "            return test_devisor\n",
    "        else:\n",
    "            return find_divisor(test_devisor + 1)\n",
    "\n",
    "    return find_divisor(2)"
   ]
  },
  {
   "cell_type": "code",
   "execution_count": 3,
   "metadata": {},
   "outputs": [
    {
     "name": "stdout",
     "output_type": "stream",
     "text": [
      "[199, 1999, 7]\n"
     ]
    }
   ],
   "source": [
    "print(list(map(smallest_devisor, [199, 1999, 19999])))"
   ]
  }
 ],
 "metadata": {
  "kernelspec": {
   "display_name": "Python 3",
   "language": "python",
   "name": "python3"
  },
  "language_info": {
   "codemirror_mode": {
    "name": "ipython",
    "version": 3
   },
   "file_extension": ".py",
   "mimetype": "text/x-python",
   "name": "python",
   "nbconvert_exporter": "python",
   "pygments_lexer": "ipython3",
   "version": "3.6.1"
  }
 },
 "nbformat": 4,
 "nbformat_minor": 2
}
